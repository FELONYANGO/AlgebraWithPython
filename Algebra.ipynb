{
  "nbformat": 4,
  "nbformat_minor": 0,
  "metadata": {
    "colab": {
      "provenance": [],
      "toc_visible": true,
      "authorship_tag": "ABX9TyP9D07OREzpTPrmdbITtbjb",
      "include_colab_link": true
    },
    "kernelspec": {
      "name": "python3",
      "display_name": "Python 3"
    },
    "language_info": {
      "name": "python"
    }
  },
  "cells": [
    {
      "cell_type": "markdown",
      "metadata": {
        "id": "view-in-github",
        "colab_type": "text"
      },
      "source": [
        "<a href=\"https://colab.research.google.com/github/FELONYANGO/AlgebraWithPython/blob/main/Algebra.ipynb\" target=\"_parent\"><img src=\"https://colab.research.google.com/assets/colab-badge.svg\" alt=\"Open In Colab\"/></a>"
      ]
    },
    {
      "cell_type": "code",
      "execution_count": 2,
      "metadata": {
        "colab": {
          "base_uri": "https://localhost:8080/"
        },
        "id": "z6RSrPoh9084",
        "outputId": "621d8f36-fa6e-4ec1-a2f6-e87a35d31741"
      },
      "outputs": [
        {
          "output_type": "stream",
          "name": "stdout",
          "text": [
            "d1 =  8.0\n"
          ]
        }
      ],
      "source": [
        "#put zero in for the unknown value\n",
        "n1=1\n",
        "n2=2\n",
        "d1=0\n",
        "d2=16\n",
        "\n",
        "if d1==0:\n",
        "    answer=d2*n1/n2\n",
        "    print(\"d1 = \",answer)\n",
        "\n",
        "if d2==0:\n",
        "     answer = d1*n2/n1\n",
        "     print(\"d2 = \",answer)"
      ]
    },
    {
      "cell_type": "markdown",
      "source": [
        "# New Section\n",
        "2\n"
      ],
      "metadata": {
        "id": "4e4p2wYV7g2B"
      }
    },
    {
      "cell_type": "code",
      "source": [
        "x=(1+2/3+3+4/5-7)\n",
        "print(x)"
      ],
      "metadata": {
        "colab": {
          "base_uri": "https://localhost:8080/"
        },
        "id": "yGwPhsXU8HRg",
        "outputId": "f47b58e4-53ef-4408-cee5-41fc66bea8f3"
      },
      "execution_count": 3,
      "outputs": [
        {
          "output_type": "stream",
          "name": "stdout",
          "text": [
            "-1.533333333333334\n"
          ]
        }
      ]
    },
    {
      "cell_type": "markdown",
      "source": [
        "# New Section\n",
        "3\n",
        "\n"
      ],
      "metadata": {
        "id": "UKBRgCOdToZl"
      }
    },
    {
      "cell_type": "code",
      "source": [
        "import sympy\n",
        "from sympy import *\n",
        "x= symbols('x')\n",
        "\n",
        "eq = (2*x-4)\n",
        "\n",
        "print(\"x = \",solve(eq,x))"
      ],
      "metadata": {
        "colab": {
          "base_uri": "https://localhost:8080/"
        },
        "id": "7RVWHhNZT0ra",
        "outputId": "3e6cf17a-df69-49e7-bee1-8db9a0151e7f"
      },
      "execution_count": 6,
      "outputs": [
        {
          "output_type": "stream",
          "name": "stdout",
          "text": [
            "x =  [2]\n"
          ]
        }
      ]
    }
  ]
}